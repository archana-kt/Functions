{
 "cells": [
  {
   "cell_type": "code",
   "execution_count": 1,
   "id": "f0bfc4b9",
   "metadata": {},
   "outputs": [],
   "source": [
    "# Lambda"
   ]
  },
  {
   "cell_type": "code",
   "execution_count": 2,
   "id": "01b6028b",
   "metadata": {},
   "outputs": [],
   "source": [
    "s = lambda a,b : a + b"
   ]
  },
  {
   "cell_type": "code",
   "execution_count": 4,
   "id": "bd9c01df",
   "metadata": {},
   "outputs": [
    {
     "data": {
      "text/plain": [
       "5"
      ]
     },
     "execution_count": 4,
     "metadata": {},
     "output_type": "execute_result"
    }
   ],
   "source": [
    "s(2,3)"
   ]
  },
  {
   "cell_type": "code",
   "execution_count": 5,
   "id": "89b635fa",
   "metadata": {},
   "outputs": [],
   "source": [
    "s = lambda a,b : a + b"
   ]
  },
  {
   "cell_type": "code",
   "execution_count": 6,
   "id": "e60d7743",
   "metadata": {},
   "outputs": [
    {
     "data": {
      "text/plain": [
       "'archana'"
      ]
     },
     "execution_count": 6,
     "metadata": {},
     "output_type": "execute_result"
    }
   ],
   "source": [
    "s('arc', 'hana')"
   ]
  },
  {
   "cell_type": "code",
   "execution_count": 7,
   "id": "3778a71f",
   "metadata": {},
   "outputs": [],
   "source": [
    "s = lambda a,b,c : ((a * (b + c) * (a - b) * c ))"
   ]
  },
  {
   "cell_type": "code",
   "execution_count": 8,
   "id": "8a4f8f61",
   "metadata": {},
   "outputs": [
    {
     "data": {
      "text/plain": [
       "5200"
      ]
     },
     "execution_count": 8,
     "metadata": {},
     "output_type": "execute_result"
    }
   ],
   "source": [
    "s(10,5,8)"
   ]
  },
  {
   "cell_type": "code",
   "execution_count": 10,
   "id": "dcd330b5",
   "metadata": {},
   "outputs": [
    {
     "ename": "TypeError",
     "evalue": "can't multiply sequence by non-int of type 'str'",
     "output_type": "error",
     "traceback": [
      "\u001b[0;31m---------------------------------------------------------------------------\u001b[0m",
      "\u001b[0;31mTypeError\u001b[0m                                 Traceback (most recent call last)",
      "Input \u001b[0;32mIn [10]\u001b[0m, in \u001b[0;36m<cell line: 1>\u001b[0;34m()\u001b[0m\n\u001b[0;32m----> 1\u001b[0m \u001b[43ms\u001b[49m\u001b[43m(\u001b[49m\u001b[38;5;124;43m'\u001b[39;49m\u001b[38;5;124;43marc\u001b[39;49m\u001b[38;5;124;43m'\u001b[39;49m\u001b[43m,\u001b[49m\u001b[38;5;124;43m'\u001b[39;49m\u001b[38;5;124;43mage\u001b[39;49m\u001b[38;5;124;43m'\u001b[39;49m\u001b[43m,\u001b[49m\u001b[38;5;124;43m'\u001b[39;49m\u001b[38;5;124;43mar\u001b[39;49m\u001b[38;5;124;43m'\u001b[39;49m\u001b[43m)\u001b[49m\n",
      "Input \u001b[0;32mIn [7]\u001b[0m, in \u001b[0;36m<lambda>\u001b[0;34m(a, b, c)\u001b[0m\n\u001b[0;32m----> 1\u001b[0m s \u001b[38;5;241m=\u001b[39m \u001b[38;5;28;01mlambda\u001b[39;00m a,b,c : ((\u001b[43ma\u001b[49m\u001b[43m \u001b[49m\u001b[38;5;241;43m*\u001b[39;49m\u001b[43m \u001b[49m\u001b[43m(\u001b[49m\u001b[43mb\u001b[49m\u001b[43m \u001b[49m\u001b[38;5;241;43m+\u001b[39;49m\u001b[43m \u001b[49m\u001b[43mc\u001b[49m\u001b[43m)\u001b[49m \u001b[38;5;241m*\u001b[39m (a \u001b[38;5;241m-\u001b[39m b) \u001b[38;5;241m*\u001b[39m c ))\n",
      "\u001b[0;31mTypeError\u001b[0m: can't multiply sequence by non-int of type 'str'"
     ]
    }
   ],
   "source": [
    "s('arc','age','ar')"
   ]
  },
  {
   "cell_type": "code",
   "execution_count": 11,
   "id": "c76b9850",
   "metadata": {},
   "outputs": [],
   "source": [
    "# can't multiply sequence by non-int of type 'str'"
   ]
  },
  {
   "cell_type": "code",
   "execution_count": 12,
   "id": "3e4ca612",
   "metadata": {},
   "outputs": [
    {
     "data": {
      "text/plain": [
       "1449.0"
      ]
     },
     "execution_count": 12,
     "metadata": {},
     "output_type": "execute_result"
    }
   ],
   "source": [
    "s(10.5,7.5,4)"
   ]
  },
  {
   "cell_type": "code",
   "execution_count": 13,
   "id": "8fcd2acf",
   "metadata": {},
   "outputs": [
    {
     "data": {
      "text/plain": [
       "(11060+4420j)"
      ]
     },
     "execution_count": 13,
     "metadata": {},
     "output_type": "execute_result"
    }
   ],
   "source": [
    "s(5+4j , 7-7j, 4-8j)"
   ]
  },
  {
   "cell_type": "code",
   "execution_count": 15,
   "id": "35487989",
   "metadata": {},
   "outputs": [
    {
     "data": {
      "text/plain": [
       "0"
      ]
     },
     "execution_count": 15,
     "metadata": {},
     "output_type": "execute_result"
    }
   ],
   "source": [
    "s(0,1,3)"
   ]
  },
  {
   "cell_type": "code",
   "execution_count": 20,
   "id": "b2ba7137",
   "metadata": {},
   "outputs": [],
   "source": [
    "def a(x,y):\n",
    "    if(x < y):\n",
    "        print(\"x is less than y\")\n",
    "    else:\n",
    "        print(\"x is greater than y\")"
   ]
  },
  {
   "cell_type": "code",
   "execution_count": 21,
   "id": "8ec6d593",
   "metadata": {},
   "outputs": [
    {
     "name": "stdout",
     "output_type": "stream",
     "text": [
      "x is less than y\n"
     ]
    }
   ],
   "source": [
    "a(3,7)"
   ]
  },
  {
   "cell_type": "code",
   "execution_count": 22,
   "id": "b692ad67",
   "metadata": {},
   "outputs": [],
   "source": [
    "# Now using lambda function"
   ]
  },
  {
   "cell_type": "code",
   "execution_count": 27,
   "id": "697950c6",
   "metadata": {},
   "outputs": [],
   "source": [
    "b = lambda x,y : x < y"
   ]
  },
  {
   "cell_type": "code",
   "execution_count": 28,
   "id": "d35382af",
   "metadata": {},
   "outputs": [
    {
     "data": {
      "text/plain": [
       "True"
      ]
     },
     "execution_count": 28,
     "metadata": {},
     "output_type": "execute_result"
    }
   ],
   "source": [
    "b(2,6)"
   ]
  },
  {
   "cell_type": "code",
   "execution_count": 34,
   "id": "668fac37",
   "metadata": {},
   "outputs": [],
   "source": [
    "b = lambda x,y : ( x < y & x > y)"
   ]
  },
  {
   "cell_type": "code",
   "execution_count": 35,
   "id": "f00c67c0",
   "metadata": {},
   "outputs": [
    {
     "data": {
      "text/plain": [
       "False"
      ]
     },
     "execution_count": 35,
     "metadata": {},
     "output_type": "execute_result"
    }
   ],
   "source": [
    "b(2,8)"
   ]
  },
  {
   "cell_type": "code",
   "execution_count": 36,
   "id": "9945cae0",
   "metadata": {},
   "outputs": [],
   "source": [
    "b = lambda x,y : (( x < y & x > y) | (x == y))"
   ]
  },
  {
   "cell_type": "code",
   "execution_count": 37,
   "id": "85baf5f3",
   "metadata": {},
   "outputs": [
    {
     "data": {
      "text/plain": [
       "True"
      ]
     },
     "execution_count": 37,
     "metadata": {},
     "output_type": "execute_result"
    }
   ],
   "source": [
    "b(2,2)"
   ]
  },
  {
   "cell_type": "code",
   "execution_count": 43,
   "id": "81e2446f",
   "metadata": {},
   "outputs": [],
   "source": [
    "c = lambda x : range(x)"
   ]
  },
  {
   "cell_type": "code",
   "execution_count": 44,
   "id": "b8abe7bc",
   "metadata": {},
   "outputs": [
    {
     "data": {
      "text/plain": [
       "range(0, 5)"
      ]
     },
     "execution_count": 44,
     "metadata": {},
     "output_type": "execute_result"
    }
   ],
   "source": [
    "c(5)"
   ]
  },
  {
   "cell_type": "code",
   "execution_count": 46,
   "id": "7dc5dd37",
   "metadata": {},
   "outputs": [],
   "source": [
    "d = lambda i,x : i in range(x)"
   ]
  },
  {
   "cell_type": "code",
   "execution_count": 48,
   "id": "c9c67cc8",
   "metadata": {},
   "outputs": [
    {
     "data": {
      "text/plain": [
       "True"
      ]
     },
     "execution_count": 48,
     "metadata": {},
     "output_type": "execute_result"
    }
   ],
   "source": [
    "d(4,5)"
   ]
  },
  {
   "cell_type": "code",
   "execution_count": 49,
   "id": "f3124c79",
   "metadata": {},
   "outputs": [
    {
     "data": {
      "text/plain": [
       "False"
      ]
     },
     "execution_count": 49,
     "metadata": {},
     "output_type": "execute_result"
    }
   ],
   "source": [
    "d(7,5)"
   ]
  },
  {
   "cell_type": "code",
   "execution_count": 50,
   "id": "bff28f08",
   "metadata": {},
   "outputs": [
    {
     "data": {
      "text/plain": [
       "False"
      ]
     },
     "execution_count": 50,
     "metadata": {},
     "output_type": "execute_result"
    }
   ],
   "source": [
    "d(2,2)"
   ]
  },
  {
   "cell_type": "code",
   "execution_count": 52,
   "id": "fb0c5072",
   "metadata": {},
   "outputs": [],
   "source": [
    "d = lambda a : a**5"
   ]
  },
  {
   "cell_type": "code",
   "execution_count": 53,
   "id": "85cd514a",
   "metadata": {},
   "outputs": [
    {
     "data": {
      "text/plain": [
       "3125"
      ]
     },
     "execution_count": 53,
     "metadata": {},
     "output_type": "execute_result"
    }
   ],
   "source": [
    "d(5)"
   ]
  }
 ],
 "metadata": {
  "kernelspec": {
   "display_name": "Python 3 (ipykernel)",
   "language": "python",
   "name": "python3"
  },
  "language_info": {
   "codemirror_mode": {
    "name": "ipython",
    "version": 3
   },
   "file_extension": ".py",
   "mimetype": "text/x-python",
   "name": "python",
   "nbconvert_exporter": "python",
   "pygments_lexer": "ipython3",
   "version": "3.9.7"
  }
 },
 "nbformat": 4,
 "nbformat_minor": 5
}
