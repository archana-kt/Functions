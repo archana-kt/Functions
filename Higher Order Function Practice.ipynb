{
 "cells": [
  {
   "cell_type": "code",
   "execution_count": 1,
   "id": "e21ad022",
   "metadata": {},
   "outputs": [],
   "source": [
    "# Higher Order Function"
   ]
  },
  {
   "cell_type": "code",
   "execution_count": 2,
   "id": "e6804da0",
   "metadata": {},
   "outputs": [],
   "source": [
    "def uppercase(x):\n",
    "    return x.upper()"
   ]
  },
  {
   "cell_type": "code",
   "execution_count": 3,
   "id": "47aaf0f8",
   "metadata": {},
   "outputs": [
    {
     "data": {
      "text/plain": [
       "'MANI'"
      ]
     },
     "execution_count": 3,
     "metadata": {},
     "output_type": "execute_result"
    }
   ],
   "source": [
    "uppercase('mani')"
   ]
  },
  {
   "cell_type": "code",
   "execution_count": 4,
   "id": "f1af3ee8",
   "metadata": {},
   "outputs": [
    {
     "data": {
      "text/plain": [
       "'ANU'"
      ]
     },
     "execution_count": 4,
     "metadata": {},
     "output_type": "execute_result"
    }
   ],
   "source": [
    "uppercase('anu')"
   ]
  },
  {
   "cell_type": "code",
   "execution_count": 6,
   "id": "a900b8c6",
   "metadata": {},
   "outputs": [
    {
     "data": {
      "text/plain": [
       "'AAAAAAAA'"
      ]
     },
     "execution_count": 6,
     "metadata": {},
     "output_type": "execute_result"
    }
   ],
   "source": [
    "uppercase('aaaaaaaa')"
   ]
  },
  {
   "cell_type": "code",
   "execution_count": 7,
   "id": "7357d399",
   "metadata": {},
   "outputs": [],
   "source": [
    "def lowercase(x):\n",
    "    return x.lower()"
   ]
  },
  {
   "cell_type": "code",
   "execution_count": 8,
   "id": "7847d0dc",
   "metadata": {},
   "outputs": [
    {
     "data": {
      "text/plain": [
       "'anu'"
      ]
     },
     "execution_count": 8,
     "metadata": {},
     "output_type": "execute_result"
    }
   ],
   "source": [
    "lowercase('ANU')"
   ]
  },
  {
   "cell_type": "code",
   "execution_count": 9,
   "id": "64a6b1d7",
   "metadata": {},
   "outputs": [
    {
     "data": {
      "text/plain": [
       "'mani'"
      ]
     },
     "execution_count": 9,
     "metadata": {},
     "output_type": "execute_result"
    }
   ],
   "source": [
    "lowercase('MANI')"
   ]
  },
  {
   "cell_type": "code",
   "execution_count": 10,
   "id": "d7e75de6",
   "metadata": {},
   "outputs": [
    {
     "data": {
      "text/plain": [
       "['In',\n",
       " 'Out',\n",
       " '_',\n",
       " '_3',\n",
       " '_4',\n",
       " '_6',\n",
       " '_8',\n",
       " '_9',\n",
       " '__',\n",
       " '___',\n",
       " '__builtin__',\n",
       " '__builtins__',\n",
       " '__doc__',\n",
       " '__loader__',\n",
       " '__name__',\n",
       " '__package__',\n",
       " '__spec__',\n",
       " '_dh',\n",
       " '_i',\n",
       " '_i1',\n",
       " '_i10',\n",
       " '_i2',\n",
       " '_i3',\n",
       " '_i4',\n",
       " '_i5',\n",
       " '_i6',\n",
       " '_i7',\n",
       " '_i8',\n",
       " '_i9',\n",
       " '_ih',\n",
       " '_ii',\n",
       " '_iii',\n",
       " '_oh',\n",
       " 'exit',\n",
       " 'get_ipython',\n",
       " 'lowercase',\n",
       " 'quit',\n",
       " 'uppercase']"
      ]
     },
     "execution_count": 10,
     "metadata": {},
     "output_type": "execute_result"
    }
   ],
   "source": [
    "dir()"
   ]
  },
  {
   "cell_type": "code",
   "execution_count": 1,
   "id": "cbc80df8",
   "metadata": {},
   "outputs": [],
   "source": [
    "def a(text): \n",
    "    return text.upper() "
   ]
  },
  {
   "cell_type": "code",
   "execution_count": 2,
   "id": "c7b0519b",
   "metadata": {},
   "outputs": [],
   "source": [
    "def b(text): \n",
    "    return text.lower() "
   ]
  },
  {
   "cell_type": "code",
   "execution_count": 3,
   "id": "3b4c429d",
   "metadata": {},
   "outputs": [],
   "source": [
    "def c(func):\n",
    "    greetings = func(\"India is my country\")\n",
    "    print(greetings)"
   ]
  },
  {
   "cell_type": "code",
   "execution_count": 4,
   "id": "31d083b0",
   "metadata": {},
   "outputs": [
    {
     "name": "stdout",
     "output_type": "stream",
     "text": [
      "INDIA IS MY COUNTRY\n"
     ]
    }
   ],
   "source": [
    "c(a)"
   ]
  },
  {
   "cell_type": "code",
   "execution_count": 5,
   "id": "ed921ebf",
   "metadata": {},
   "outputs": [
    {
     "name": "stdout",
     "output_type": "stream",
     "text": [
      "india is my country\n"
     ]
    }
   ],
   "source": [
    "c(b)"
   ]
  },
  {
   "cell_type": "code",
   "execution_count": 6,
   "id": "fddec410",
   "metadata": {},
   "outputs": [],
   "source": [
    "def d(func):\n",
    "    greetings = func(\"India is largest country\")\n",
    "    return greetings"
   ]
  },
  {
   "cell_type": "code",
   "execution_count": 7,
   "id": "30639853",
   "metadata": {},
   "outputs": [
    {
     "name": "stdout",
     "output_type": "stream",
     "text": [
      "INDIA IS MY COUNTRY\n"
     ]
    }
   ],
   "source": [
    "c(a)"
   ]
  },
  {
   "cell_type": "code",
   "execution_count": 8,
   "id": "c8261837",
   "metadata": {},
   "outputs": [
    {
     "name": "stdout",
     "output_type": "stream",
     "text": [
      "india is my country\n"
     ]
    }
   ],
   "source": [
    "c(b)"
   ]
  },
  {
   "cell_type": "markdown",
   "id": "36bc090e",
   "metadata": {},
   "source": [
    "# Using functions as objects in High order function"
   ]
  },
  {
   "cell_type": "code",
   "execution_count": 12,
   "id": "1bb9bf89",
   "metadata": {},
   "outputs": [
    {
     "name": "stdout",
     "output_type": "stream",
     "text": [
      "Enter ur name: archana\n",
      "ARCHANA\n",
      "ARCHANA\n"
     ]
    }
   ],
   "source": [
    "# a default function to take another function parameter  \n",
    "def a(text):  \n",
    "    return text.upper()   \n",
    "\n",
    "# Taking text as user input  \n",
    "text = input(\"Enter ur name: \")  \n",
    "\n",
    "# Spell function with text  \n",
    "print(a(text))   \n",
    "\n",
    "# Assigning variable with the default function  \n",
    "ss = a \n",
    "\n",
    "print(ss(text))  "
   ]
  },
  {
   "cell_type": "markdown",
   "id": "e172be3d",
   "metadata": {},
   "source": [
    "# Functions as a parameter for another function"
   ]
  },
  {
   "cell_type": "code",
   "execution_count": 13,
   "id": "ba44e58a",
   "metadata": {},
   "outputs": [
    {
     "name": "stdout",
     "output_type": "stream",
     "text": [
      "I AM AN INDIAN\n",
      "i am an indian\n"
     ]
    }
   ],
   "source": [
    "def s1(word):   \n",
    "    return word.upper()   \n",
    "\n",
    "def s2(word):   \n",
    "    return word.lower()   \n",
    "# A third function that work as a high order function  \n",
    "def speak(func):   \n",
    "    # Storing the function in a variable in high order function   \n",
    "    speaking = func(\"I am an Indian\")   \n",
    "    print(speaking)   \n",
    "    \n",
    "speak(s1)  \n",
    "speak(s2)  "
   ]
  }
 ],
 "metadata": {
  "kernelspec": {
   "display_name": "Python 3 (ipykernel)",
   "language": "python",
   "name": "python3"
  },
  "language_info": {
   "codemirror_mode": {
    "name": "ipython",
    "version": 3
   },
   "file_extension": ".py",
   "mimetype": "text/x-python",
   "name": "python",
   "nbconvert_exporter": "python",
   "pygments_lexer": "ipython3",
   "version": "3.9.7"
  }
 },
 "nbformat": 4,
 "nbformat_minor": 5
}
