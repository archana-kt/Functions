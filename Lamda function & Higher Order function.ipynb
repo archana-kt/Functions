{
 "cells": [
  {
   "cell_type": "markdown",
   "id": "90118f2c",
   "metadata": {},
   "source": [
    "# Lambda"
   ]
  },
  {
   "cell_type": "raw",
   "id": "5593541d",
   "metadata": {},
   "source": [
    "# Syntax\n",
    "\n",
    "lambda parameters : expression"
   ]
  },
  {
   "cell_type": "code",
   "execution_count": 1,
   "id": "0d30cf56",
   "metadata": {},
   "outputs": [],
   "source": [
    "res = lambda x,y : x + y"
   ]
  },
  {
   "cell_type": "code",
   "execution_count": 2,
   "id": "83f795c9",
   "metadata": {},
   "outputs": [
    {
     "data": {
      "text/plain": [
       "10"
      ]
     },
     "execution_count": 2,
     "metadata": {},
     "output_type": "execute_result"
    }
   ],
   "source": [
    "res(5,5)"
   ]
  },
  {
   "cell_type": "code",
   "execution_count": 3,
   "id": "cc4dfdaf",
   "metadata": {},
   "outputs": [
    {
     "data": {
      "text/plain": [
       "'archana'"
      ]
     },
     "execution_count": 3,
     "metadata": {},
     "output_type": "execute_result"
    }
   ],
   "source": [
    "res('arch','ana')"
   ]
  },
  {
   "cell_type": "code",
   "execution_count": 4,
   "id": "e887a8df",
   "metadata": {},
   "outputs": [],
   "source": [
    "def uppercase(x):\n",
    "    return x.upper()"
   ]
  },
  {
   "cell_type": "code",
   "execution_count": 5,
   "id": "c2f6173a",
   "metadata": {},
   "outputs": [
    {
     "data": {
      "text/plain": [
       "'ARCHANA'"
      ]
     },
     "execution_count": 5,
     "metadata": {},
     "output_type": "execute_result"
    }
   ],
   "source": [
    "uppercase(\"Archana\")"
   ]
  },
  {
   "cell_type": "code",
   "execution_count": 6,
   "id": "c86b0245",
   "metadata": {},
   "outputs": [
    {
     "data": {
      "text/plain": [
       "'MANI'"
      ]
     },
     "execution_count": 6,
     "metadata": {},
     "output_type": "execute_result"
    }
   ],
   "source": [
    "uppercase(\"Mani\")"
   ]
  },
  {
   "cell_type": "code",
   "execution_count": 9,
   "id": "2fec3f4f",
   "metadata": {},
   "outputs": [],
   "source": [
    "def lowercase(x):\n",
    "    return x.lower()"
   ]
  },
  {
   "cell_type": "code",
   "execution_count": 10,
   "id": "217bfeb6",
   "metadata": {},
   "outputs": [
    {
     "data": {
      "text/plain": [
       "'archana'"
      ]
     },
     "execution_count": 10,
     "metadata": {},
     "output_type": "execute_result"
    }
   ],
   "source": [
    "lowercase('ARCHANA')"
   ]
  },
  {
   "cell_type": "code",
   "execution_count": 11,
   "id": "1b9e2c85",
   "metadata": {},
   "outputs": [],
   "source": [
    "def a(x):\n",
    "    return x.capitalize()"
   ]
  },
  {
   "cell_type": "code",
   "execution_count": 12,
   "id": "8fb14acb",
   "metadata": {},
   "outputs": [
    {
     "data": {
      "text/plain": [
       "'Archana'"
      ]
     },
     "execution_count": 12,
     "metadata": {},
     "output_type": "execute_result"
    }
   ],
   "source": [
    "a(\"archana\")"
   ]
  },
  {
   "cell_type": "markdown",
   "id": "91860d5b",
   "metadata": {},
   "source": [
    "# Higher Order Function"
   ]
  },
  {
   "cell_type": "code",
   "execution_count": 13,
   "id": "30c422c9",
   "metadata": {},
   "outputs": [],
   "source": [
    "def greetings(x): # this is called higher order function\n",
    "    return uppercase(x)"
   ]
  },
  {
   "cell_type": "code",
   "execution_count": 14,
   "id": "16dbc721",
   "metadata": {},
   "outputs": [
    {
     "data": {
      "text/plain": [
       "'ARCHANA'"
      ]
     },
     "execution_count": 14,
     "metadata": {},
     "output_type": "execute_result"
    }
   ],
   "source": [
    "greetings(\"archana\")"
   ]
  },
  {
   "cell_type": "code",
   "execution_count": 20,
   "id": "39af9f0a",
   "metadata": {},
   "outputs": [],
   "source": [
    "def uppercase(x):\n",
    "    x.upper()"
   ]
  },
  {
   "cell_type": "code",
   "execution_count": 21,
   "id": "b9b5212b",
   "metadata": {},
   "outputs": [],
   "source": [
    "def lowercase(x):\n",
    "    x.lower()"
   ]
  },
  {
   "cell_type": "code",
   "execution_count": 22,
   "id": "6d5ace72",
   "metadata": {},
   "outputs": [],
   "source": [
    "def greetings(func):\n",
    "    func(\"archana\")"
   ]
  },
  {
   "cell_type": "code",
   "execution_count": 23,
   "id": "fd37cf4c",
   "metadata": {},
   "outputs": [],
   "source": [
    "greetings(uppercase) # not printing anything. bcoz no return statement"
   ]
  },
  {
   "cell_type": "code",
   "execution_count": 19,
   "id": "007f978a",
   "metadata": {},
   "outputs": [],
   "source": [
    "# Now using return function"
   ]
  },
  {
   "cell_type": "code",
   "execution_count": 24,
   "id": "3f4cd4d9",
   "metadata": {},
   "outputs": [],
   "source": [
    "def uppercase(x):\n",
    "    return x.upper()"
   ]
  },
  {
   "cell_type": "code",
   "execution_count": 25,
   "id": "66b8d59f",
   "metadata": {},
   "outputs": [],
   "source": [
    "def lowercase(x):\n",
    "    return x.lower()"
   ]
  },
  {
   "cell_type": "code",
   "execution_count": 26,
   "id": "ef92d609",
   "metadata": {},
   "outputs": [],
   "source": [
    "def greetings(func):\n",
    "    return func(\"archana\")"
   ]
  },
  {
   "cell_type": "code",
   "execution_count": 27,
   "id": "073dac89",
   "metadata": {},
   "outputs": [
    {
     "data": {
      "text/plain": [
       "'ARCHANA'"
      ]
     },
     "execution_count": 27,
     "metadata": {},
     "output_type": "execute_result"
    }
   ],
   "source": [
    "greetings(uppercase)"
   ]
  },
  {
   "cell_type": "code",
   "execution_count": 28,
   "id": "4035a337",
   "metadata": {},
   "outputs": [
    {
     "data": {
      "text/plain": [
       "'archana'"
      ]
     },
     "execution_count": 28,
     "metadata": {},
     "output_type": "execute_result"
    }
   ],
   "source": [
    "greetings(lowercase)"
   ]
  },
  {
   "cell_type": "markdown",
   "id": "9306d249",
   "metadata": {},
   "source": [
    "# Higher Order Function using arguments"
   ]
  },
  {
   "cell_type": "code",
   "execution_count": 30,
   "id": "2b88ecf6",
   "metadata": {},
   "outputs": [],
   "source": [
    "def uppercase(x):\n",
    "    return x.upper()"
   ]
  },
  {
   "cell_type": "code",
   "execution_count": 31,
   "id": "639cce0d",
   "metadata": {},
   "outputs": [],
   "source": [
    "def lowercase(x):\n",
    "    return x.lower()"
   ]
  },
  {
   "cell_type": "code",
   "execution_count": 32,
   "id": "2a51887e",
   "metadata": {},
   "outputs": [],
   "source": [
    "def greetings(func, args):\n",
    "    return func(args)"
   ]
  },
  {
   "cell_type": "code",
   "execution_count": 34,
   "id": "ab7b3404",
   "metadata": {},
   "outputs": [
    {
     "data": {
      "text/plain": [
       "'ARC'"
      ]
     },
     "execution_count": 34,
     "metadata": {},
     "output_type": "execute_result"
    }
   ],
   "source": [
    "greetings(uppercase, 'Arc') # see now we can change the value. bcoz it is dynamic"
   ]
  },
  {
   "cell_type": "code",
   "execution_count": 35,
   "id": "e84a7fe7",
   "metadata": {},
   "outputs": [
    {
     "data": {
      "text/plain": [
       "'MANI'"
      ]
     },
     "execution_count": 35,
     "metadata": {},
     "output_type": "execute_result"
    }
   ],
   "source": [
    "greetings(uppercase, 'Mani')"
   ]
  },
  {
   "cell_type": "code",
   "execution_count": 36,
   "id": "28777abd",
   "metadata": {},
   "outputs": [
    {
     "data": {
      "text/plain": [
       "'KALP'"
      ]
     },
     "execution_count": 36,
     "metadata": {},
     "output_type": "execute_result"
    }
   ],
   "source": [
    "greetings(uppercase, 'Kalp')"
   ]
  },
  {
   "cell_type": "code",
   "execution_count": 37,
   "id": "c2ef3646",
   "metadata": {},
   "outputs": [
    {
     "data": {
      "text/plain": [
       "'THIRU'"
      ]
     },
     "execution_count": 37,
     "metadata": {},
     "output_type": "execute_result"
    }
   ],
   "source": [
    "greetings(uppercase, 'Thiru')"
   ]
  }
 ],
 "metadata": {
  "kernelspec": {
   "display_name": "Python 3 (ipykernel)",
   "language": "python",
   "name": "python3"
  },
  "language_info": {
   "codemirror_mode": {
    "name": "ipython",
    "version": 3
   },
   "file_extension": ".py",
   "mimetype": "text/x-python",
   "name": "python",
   "nbconvert_exporter": "python",
   "pygments_lexer": "ipython3",
   "version": "3.9.7"
  }
 },
 "nbformat": 4,
 "nbformat_minor": 5
}
