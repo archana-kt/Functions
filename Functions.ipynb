{
 "cells": [
  {
   "cell_type": "code",
   "execution_count": 1,
   "id": "9db14bf0",
   "metadata": {},
   "outputs": [
    {
     "name": "stdout",
     "output_type": "stream",
     "text": [
      "Enter the number: 5\n"
     ]
    }
   ],
   "source": [
    "n = int(input(\"Enter the number: \"))"
   ]
  },
  {
   "cell_type": "code",
   "execution_count": 2,
   "id": "9c8d9bd0",
   "metadata": {},
   "outputs": [
    {
     "data": {
      "text/plain": [
       "5"
      ]
     },
     "execution_count": 2,
     "metadata": {},
     "output_type": "execute_result"
    }
   ],
   "source": [
    "n"
   ]
  },
  {
   "cell_type": "code",
   "execution_count": 3,
   "id": "00f5aa58",
   "metadata": {},
   "outputs": [],
   "source": [
    "# Functions "
   ]
  },
  {
   "cell_type": "markdown",
   "id": "0c104951",
   "metadata": {},
   "source": [
    "# def function_name(parameters):\n",
    "    # statement\n",
    "    # statement\n",
    "    # statement"
   ]
  },
  {
   "cell_type": "code",
   "execution_count": 4,
   "id": "312280e8",
   "metadata": {},
   "outputs": [
    {
     "name": "stdout",
     "output_type": "stream",
     "text": [
      "* * * * * \n",
      "* * * * * \n",
      "* * * * * \n",
      "* * * * * \n",
      "* * * * * \n"
     ]
    }
   ],
   "source": [
    "for i in range(n):\n",
    "    print(\"* \" * n)"
   ]
  },
  {
   "cell_type": "code",
   "execution_count": 6,
   "id": "8e89d3a7",
   "metadata": {},
   "outputs": [],
   "source": [
    "def pattern():\n",
    "    n = int(input(\"Enter the number: \"))\n",
    "    for i in range(n):\n",
    "        print(\"* \" * n)"
   ]
  },
  {
   "cell_type": "code",
   "execution_count": 7,
   "id": "b8a26266",
   "metadata": {},
   "outputs": [
    {
     "name": "stdout",
     "output_type": "stream",
     "text": [
      "Enter the number: 5\n",
      "* * * * * \n",
      "* * * * * \n",
      "* * * * * \n",
      "* * * * * \n",
      "* * * * * \n"
     ]
    }
   ],
   "source": [
    "pattern()"
   ]
  },
  {
   "cell_type": "code",
   "execution_count": 8,
   "id": "d8bf2c76",
   "metadata": {},
   "outputs": [
    {
     "name": "stdout",
     "output_type": "stream",
     "text": [
      "Enter the number: 10\n",
      "* * * * * * * * * * \n",
      "* * * * * * * * * * \n",
      "* * * * * * * * * * \n",
      "* * * * * * * * * * \n",
      "* * * * * * * * * * \n",
      "* * * * * * * * * * \n",
      "* * * * * * * * * * \n",
      "* * * * * * * * * * \n",
      "* * * * * * * * * * \n",
      "* * * * * * * * * * \n"
     ]
    }
   ],
   "source": [
    "pattern()"
   ]
  },
  {
   "cell_type": "code",
   "execution_count": 10,
   "id": "5e29478d",
   "metadata": {},
   "outputs": [
    {
     "name": "stdout",
     "output_type": "stream",
     "text": [
      "Even number\n"
     ]
    }
   ],
   "source": [
    "if(10%2 == 0):\n",
    "    print(\"Even number\")\n",
    "else:\n",
    "    print(\"Odd number\")"
   ]
  },
  {
   "cell_type": "code",
   "execution_count": 12,
   "id": "97c4645d",
   "metadata": {},
   "outputs": [],
   "source": [
    "def check():\n",
    "    n = int(input(\"Enter the value: \"))\n",
    "    if(n%2 == 0):\n",
    "        print(\"Even number\")\n",
    "    else:\n",
    "        print(\"Odd number\")"
   ]
  },
  {
   "cell_type": "code",
   "execution_count": 13,
   "id": "d8b3795a",
   "metadata": {},
   "outputs": [
    {
     "name": "stdout",
     "output_type": "stream",
     "text": [
      "Enter the value: 12\n",
      "Even number\n"
     ]
    }
   ],
   "source": [
    "check()"
   ]
  },
  {
   "cell_type": "code",
   "execution_count": 14,
   "id": "47aec642",
   "metadata": {},
   "outputs": [
    {
     "name": "stdout",
     "output_type": "stream",
     "text": [
      "Enter the value: 13\n",
      "Odd number\n"
     ]
    }
   ],
   "source": [
    "check()"
   ]
  },
  {
   "cell_type": "code",
   "execution_count": 15,
   "id": "bd5700c9",
   "metadata": {},
   "outputs": [],
   "source": [
    "# parameters are the objects or variables which will used during the function definition"
   ]
  },
  {
   "cell_type": "code",
   "execution_count": 16,
   "id": "7caa0b26",
   "metadata": {},
   "outputs": [],
   "source": [
    "# arguments are the real values which will passed to the function definition during the function call"
   ]
  },
  {
   "cell_type": "markdown",
   "id": "c5bfe208",
   "metadata": {},
   "source": [
    "# Parameters"
   ]
  },
  {
   "cell_type": "code",
   "execution_count": 17,
   "id": "ff024cdc",
   "metadata": {},
   "outputs": [],
   "source": [
    "def getdata(name,age,city):  # 3 parameters\n",
    "    print(\"Name: \", name)\n",
    "    print(\"Age: \", age)\n",
    "    print(\"City: \", city)"
   ]
  },
  {
   "cell_type": "code",
   "execution_count": 18,
   "id": "4162a2b2",
   "metadata": {},
   "outputs": [
    {
     "ename": "TypeError",
     "evalue": "getdata() missing 3 required positional arguments: 'name', 'age', and 'city'",
     "output_type": "error",
     "traceback": [
      "\u001b[0;31m---------------------------------------------------------------------------\u001b[0m",
      "\u001b[0;31mTypeError\u001b[0m                                 Traceback (most recent call last)",
      "Input \u001b[0;32mIn [18]\u001b[0m, in \u001b[0;36m<cell line: 1>\u001b[0;34m()\u001b[0m\n\u001b[0;32m----> 1\u001b[0m \u001b[43mgetdata\u001b[49m\u001b[43m(\u001b[49m\u001b[43m)\u001b[49m\n",
      "\u001b[0;31mTypeError\u001b[0m: getdata() missing 3 required positional arguments: 'name', 'age', and 'city'"
     ]
    }
   ],
   "source": [
    "getdata()"
   ]
  },
  {
   "cell_type": "code",
   "execution_count": 19,
   "id": "280e2dd2",
   "metadata": {},
   "outputs": [
    {
     "name": "stdout",
     "output_type": "stream",
     "text": [
      "Name:  Arc\n",
      "Age:  22\n",
      "City:  Salem\n"
     ]
    }
   ],
   "source": [
    "getdata(\"Arc\",22,\"Salem\")"
   ]
  },
  {
   "cell_type": "markdown",
   "id": "0e7868b0",
   "metadata": {},
   "source": [
    "# Keyword Arguments"
   ]
  },
  {
   "cell_type": "code",
   "execution_count": 20,
   "id": "1055dc21",
   "metadata": {},
   "outputs": [],
   "source": [
    "def getdata(name, age, city = \"Salem\"):\n",
    "    print(\"Name: \", name)\n",
    "    print(\"Age: \", age)\n",
    "    print(\"City: \", city)"
   ]
  },
  {
   "cell_type": "code",
   "execution_count": 21,
   "id": "5efca87f",
   "metadata": {},
   "outputs": [
    {
     "name": "stdout",
     "output_type": "stream",
     "text": [
      "Name:  Arc\n",
      "Age:  22\n",
      "City:  Salem\n"
     ]
    }
   ],
   "source": [
    "getdata(\"Arc\",22)"
   ]
  },
  {
   "cell_type": "code",
   "execution_count": 22,
   "id": "10eb0f68",
   "metadata": {},
   "outputs": [
    {
     "name": "stdout",
     "output_type": "stream",
     "text": [
      "Name:  Arc\n",
      "Age:  22\n",
      "City:  Trichy\n"
     ]
    }
   ],
   "source": [
    "getdata(\"Arc\",22,\"Trichy\")"
   ]
  },
  {
   "cell_type": "markdown",
   "id": "6277fac9",
   "metadata": {},
   "source": [
    "# Docstring"
   ]
  },
  {
   "cell_type": "code",
   "execution_count": 23,
   "id": "898003cc",
   "metadata": {},
   "outputs": [],
   "source": [
    "getdata?"
   ]
  },
  {
   "cell_type": "raw",
   "id": "faf40068",
   "metadata": {},
   "source": [
    "Signature: getdata(name, age, city='Salem')\n",
    "Docstring: <no docstring>\n",
    "File:      /var/folders/5f/zvvxs6012zn4htwxbbkh2mvh0000gn/T/ipykernel_1788/599109377.py\n",
    "Type:      function"
   ]
  },
  {
   "cell_type": "code",
   "execution_count": 26,
   "id": "7452df1b",
   "metadata": {},
   "outputs": [],
   "source": [
    "def getvalue(name, age, city = \"Madurai\", isnear = \"Yes\"):\n",
    "    \"\"\"It returns the name,age,city and isnear statements\"\"\"\n",
    "    print(\"Name: \", name)\n",
    "    print(\"Age: \", age)\n",
    "    print(\"City: \", city)\n",
    "    print(\"Is near: \", isnear)"
   ]
  },
  {
   "cell_type": "code",
   "execution_count": 27,
   "id": "70f68c68",
   "metadata": {},
   "outputs": [
    {
     "name": "stdout",
     "output_type": "stream",
     "text": [
      "Name:  Mani\n",
      "Age:  24\n",
      "City:  Chennai\n",
      "Is near:  Yes\n"
     ]
    }
   ],
   "source": [
    "getvalue(\"Mani\",24,\"Chennai\")"
   ]
  },
  {
   "cell_type": "code",
   "execution_count": 28,
   "id": "8fdbaa52",
   "metadata": {},
   "outputs": [],
   "source": [
    "getvalue?"
   ]
  },
  {
   "cell_type": "raw",
   "id": "72ff981c",
   "metadata": {},
   "source": [
    "Signature: getvalue(name, age, city='Madurai', isnear='Yes')\n",
    "Docstring: It returns the name,age,city and isnear statements\n",
    "File:      /var/folders/5f/zvvxs6012zn4htwxbbkh2mvh0000gn/T/ipykernel_1788/1437611100.py\n",
    "Type:      function"
   ]
  },
  {
   "cell_type": "code",
   "execution_count": 29,
   "id": "848c4885",
   "metadata": {},
   "outputs": [],
   "source": [
    "# See for getdata and getvalue, we are getting doc string. So for our own functions can be created as docstring in\n",
    "# python"
   ]
  },
  {
   "cell_type": "code",
   "execution_count": 30,
   "id": "981161fd",
   "metadata": {},
   "outputs": [
    {
     "name": "stdout",
     "output_type": "stream",
     "text": [
      "Help on function getvalue in module __main__:\n",
      "\n",
      "getvalue(name, age, city='Madurai', isnear='Yes')\n",
      "    It returns the name,age,city and isnear statements\n",
      "\n"
     ]
    }
   ],
   "source": [
    "help(getvalue)"
   ]
  },
  {
   "cell_type": "code",
   "execution_count": 31,
   "id": "54c0c4a0",
   "metadata": {},
   "outputs": [
    {
     "data": {
      "text/plain": [
       "'It returns the name,age,city and isnear statements'"
      ]
     },
     "execution_count": 31,
     "metadata": {},
     "output_type": "execute_result"
    }
   ],
   "source": [
    "getvalue.__doc__"
   ]
  },
  {
   "cell_type": "code",
   "execution_count": 35,
   "id": "789ec018",
   "metadata": {},
   "outputs": [],
   "source": [
    "def pattern(n,p):\n",
    "    for i in range(n): # 0 1 2 3 4\n",
    "        for j in range(i+1):\n",
    "            print(p, end = \" \")\n",
    "        print(\" \")"
   ]
  },
  {
   "cell_type": "code",
   "execution_count": 36,
   "id": "bf8f8476",
   "metadata": {},
   "outputs": [
    {
     "name": "stdout",
     "output_type": "stream",
     "text": [
      "3  \n",
      "3 3  \n",
      "3 3 3  \n",
      "3 3 3 3  \n",
      "3 3 3 3 3  \n"
     ]
    }
   ],
   "source": [
    "pattern(5,3)"
   ]
  },
  {
   "cell_type": "raw",
   "id": "d3e31748",
   "metadata": {},
   "source": [
    "# i=0 -> (0,0+1) -> (0,1) -> (0-1) => 1 time 3 printed\n",
    "# i=1 -> (0,1+1) -> (0,2) -> (0-2) => 2 time 3 printed\n",
    "# i=2 -> (0,2+1) -> (0,3) -> (0-3) => 3 time 3 printed\n",
    "# i=3 -> (0,3+1) -> (0,4) -> (0-4) => 4 time 3 printed\n",
    "# i=4 -> (0,4+1) -> (0,5) -> (0-5) => 5 time 3 printed"
   ]
  },
  {
   "cell_type": "code",
   "execution_count": 39,
   "id": "9a0da7ad",
   "metadata": {},
   "outputs": [
    {
     "name": "stdout",
     "output_type": "stream",
     "text": [
      "5  \n",
      "5 5  \n",
      "5 5 5  \n",
      "5 5 5 5  \n",
      "5 5 5 5 5  \n"
     ]
    }
   ],
   "source": [
    "pattern(5,5)"
   ]
  },
  {
   "cell_type": "code",
   "execution_count": 40,
   "id": "20f538c9",
   "metadata": {},
   "outputs": [
    {
     "name": "stdout",
     "output_type": "stream",
     "text": [
      "8  \n",
      "8 8  \n",
      "8 8 8  \n",
      "8 8 8 8  \n",
      "8 8 8 8 8  \n",
      "8 8 8 8 8 8  \n"
     ]
    }
   ],
   "source": [
    "pattern(6,8)"
   ]
  },
  {
   "cell_type": "code",
   "execution_count": 41,
   "id": "00e829b6",
   "metadata": {},
   "outputs": [],
   "source": [
    "def condition(x,y):\n",
    "    if(x == y):\n",
    "        print(\"x is equal to y\")\n",
    "    elif(x < y):\n",
    "        print(\"x is less than y\")\n",
    "    elif(x > y):\n",
    "        print(\"x is greater than y\")\n",
    "    else:\n",
    "        print(\"x is not equal to y\")"
   ]
  },
  {
   "cell_type": "code",
   "execution_count": 42,
   "id": "eb4d4dfe",
   "metadata": {},
   "outputs": [
    {
     "name": "stdout",
     "output_type": "stream",
     "text": [
      "x is greater than y\n"
     ]
    }
   ],
   "source": [
    "condition(10,5)"
   ]
  },
  {
   "cell_type": "code",
   "execution_count": 43,
   "id": "645c6268",
   "metadata": {},
   "outputs": [
    {
     "name": "stdout",
     "output_type": "stream",
     "text": [
      "x is equal to y\n"
     ]
    }
   ],
   "source": [
    "condition(10,10)"
   ]
  },
  {
   "cell_type": "code",
   "execution_count": 44,
   "id": "0e188fe1",
   "metadata": {},
   "outputs": [
    {
     "name": "stdout",
     "output_type": "stream",
     "text": [
      "x is less than y\n"
     ]
    }
   ],
   "source": [
    "condition(10,20)"
   ]
  },
  {
   "cell_type": "code",
   "execution_count": 45,
   "id": "58f79da2",
   "metadata": {},
   "outputs": [
    {
     "name": "stdout",
     "output_type": "stream",
     "text": [
      "x is less than y\n"
     ]
    }
   ],
   "source": [
    "condition('a','b')"
   ]
  },
  {
   "cell_type": "code",
   "execution_count": 46,
   "id": "ffbf8c23",
   "metadata": {},
   "outputs": [
    {
     "name": "stdout",
     "output_type": "stream",
     "text": [
      "x is greater than y\n"
     ]
    }
   ],
   "source": [
    "condition('z','c')"
   ]
  },
  {
   "cell_type": "code",
   "execution_count": 49,
   "id": "c7434370",
   "metadata": {},
   "outputs": [],
   "source": [
    "def rain(is_rain, field):\n",
    "    if(is_rain == 'yes') and (field == 'indoor'):\n",
    "        print(playable, \"cannot play\")\n",
    "    elif(is_rain == 'no') and (field == 'outdoor'):\n",
    "        print(playable, \"can play\")\n",
    "    else:\n",
    "        print(playable, \"can play anywhere\")"
   ]
  },
  {
   "cell_type": "code",
   "execution_count": 51,
   "id": "e449829e",
   "metadata": {},
   "outputs": [
    {
     "name": "stdout",
     "output_type": "stream",
     "text": [
      "Enter the game: tennis\n"
     ]
    }
   ],
   "source": [
    "playable=input(\"Enter the game: \")"
   ]
  },
  {
   "cell_type": "code",
   "execution_count": 52,
   "id": "4fe6405f",
   "metadata": {},
   "outputs": [
    {
     "name": "stdout",
     "output_type": "stream",
     "text": [
      "tennis can play anywhere\n"
     ]
    }
   ],
   "source": [
    "rain('yes','outdoor')"
   ]
  },
  {
   "cell_type": "code",
   "execution_count": 53,
   "id": "ce1a7fcc",
   "metadata": {},
   "outputs": [
    {
     "name": "stdout",
     "output_type": "stream",
     "text": [
      "tennis can play\n"
     ]
    }
   ],
   "source": [
    "rain('no','outdoor')"
   ]
  },
  {
   "cell_type": "code",
   "execution_count": 54,
   "id": "2e33200c",
   "metadata": {},
   "outputs": [
    {
     "name": "stdout",
     "output_type": "stream",
     "text": [
      "tennis cannot play\n"
     ]
    }
   ],
   "source": [
    "rain('yes','indoor')"
   ]
  },
  {
   "cell_type": "code",
   "execution_count": 63,
   "id": "61ded67b",
   "metadata": {},
   "outputs": [],
   "source": [
    "def checking(x,y):\n",
    "    \"\"\"Need to give x & y value\"\"\"\n",
    "    if(x > y):\n",
    "        if(x == y):\n",
    "            print(\"x is equal to y\")\n",
    "        else: \n",
    "            print(\"x is not equal to y\")\n",
    "    elif(x <= y ):\n",
    "        print(\"x is less than equal to y\")\n",
    "    else:\n",
    "        print(\"x is greater than y\")"
   ]
  },
  {
   "cell_type": "code",
   "execution_count": 59,
   "id": "04704572",
   "metadata": {},
   "outputs": [
    {
     "name": "stdout",
     "output_type": "stream",
     "text": [
      "x is less than equal to y\n"
     ]
    }
   ],
   "source": [
    "checking(10,20)"
   ]
  },
  {
   "cell_type": "code",
   "execution_count": 60,
   "id": "77b31e7e",
   "metadata": {},
   "outputs": [
    {
     "name": "stdout",
     "output_type": "stream",
     "text": [
      "x is not equal to y\n"
     ]
    }
   ],
   "source": [
    "checking(20,10)"
   ]
  },
  {
   "cell_type": "code",
   "execution_count": 61,
   "id": "20f6a96d",
   "metadata": {},
   "outputs": [
    {
     "name": "stdout",
     "output_type": "stream",
     "text": [
      "x is less than equal to y\n"
     ]
    }
   ],
   "source": [
    "checking(10,10)"
   ]
  },
  {
   "cell_type": "code",
   "execution_count": 64,
   "id": "95a93e36",
   "metadata": {},
   "outputs": [],
   "source": [
    "checking?"
   ]
  },
  {
   "cell_type": "raw",
   "id": "1d508e64",
   "metadata": {},
   "source": [
    "Signature: checking(x, y)\n",
    "Docstring: Need to give x & y value\n",
    "File:      /var/folders/5f/zvvxs6012zn4htwxbbkh2mvh0000gn/T/ipykernel_1788/795522141.py\n",
    "Type:      function"
   ]
  },
  {
   "cell_type": "code",
   "execution_count": 70,
   "id": "4b265573",
   "metadata": {},
   "outputs": [],
   "source": [
    "def a(x,y):\n",
    "    \"\"\"Need to give b & c value\"\"\"\n",
    "    if x > y:\n",
    "        print(\"x is greater than y\")\n",
    "    elif x == y:\n",
    "        print(\"x is equal to y\")\n",
    "    else:\n",
    "        if x >= y:\n",
    "            print(\"x is greater than or equal to y\")\n",
    "        else:\n",
    "            print(\"x is less than y\")"
   ]
  },
  {
   "cell_type": "code",
   "execution_count": 71,
   "id": "35efda60",
   "metadata": {},
   "outputs": [
    {
     "name": "stdout",
     "output_type": "stream",
     "text": [
      "x is equal to y\n"
     ]
    }
   ],
   "source": [
    "a(10,10)"
   ]
  },
  {
   "cell_type": "code",
   "execution_count": 72,
   "id": "c8f4bc80",
   "metadata": {},
   "outputs": [
    {
     "name": "stdout",
     "output_type": "stream",
     "text": [
      "x is less than y\n"
     ]
    }
   ],
   "source": [
    "a(10,20)"
   ]
  },
  {
   "cell_type": "code",
   "execution_count": 74,
   "id": "383f8495",
   "metadata": {},
   "outputs": [
    {
     "name": "stdout",
     "output_type": "stream",
     "text": [
      "x is greater than y\n"
     ]
    }
   ],
   "source": [
    "a(30,10)"
   ]
  },
  {
   "cell_type": "code",
   "execution_count": 75,
   "id": "faf9d2a7",
   "metadata": {},
   "outputs": [],
   "source": [
    "def pattern2():\n",
    "    for i in range(5): # 0 1 2 3 4\n",
    "        for j in range(3):\n",
    "            print(i, end = \" \")\n",
    "        print(\" \")"
   ]
  },
  {
   "cell_type": "code",
   "execution_count": 76,
   "id": "95efd9f2",
   "metadata": {},
   "outputs": [
    {
     "name": "stdout",
     "output_type": "stream",
     "text": [
      "0 0 0  \n",
      "1 1 1  \n",
      "2 2 2  \n",
      "3 3 3  \n",
      "4 4 4  \n"
     ]
    }
   ],
   "source": [
    "pattern2()"
   ]
  },
  {
   "cell_type": "code",
   "execution_count": 77,
   "id": "8d717edd",
   "metadata": {},
   "outputs": [],
   "source": [
    "def pattern3():\n",
    "    for i in range(10):\n",
    "        for j in range(i):\n",
    "            print(j, end = \" \")\n",
    "        print(\" \")"
   ]
  },
  {
   "cell_type": "code",
   "execution_count": 78,
   "id": "f4c374a8",
   "metadata": {},
   "outputs": [
    {
     "name": "stdout",
     "output_type": "stream",
     "text": [
      " \n",
      "0  \n",
      "0 1  \n",
      "0 1 2  \n",
      "0 1 2 3  \n",
      "0 1 2 3 4  \n",
      "0 1 2 3 4 5  \n",
      "0 1 2 3 4 5 6  \n",
      "0 1 2 3 4 5 6 7  \n",
      "0 1 2 3 4 5 6 7 8  \n"
     ]
    }
   ],
   "source": [
    "pattern3()"
   ]
  },
  {
   "cell_type": "code",
   "execution_count": 79,
   "id": "0df6ff8b",
   "metadata": {},
   "outputs": [],
   "source": [
    "def pattern4():\n",
    "    for i in range(0,255):\n",
    "        print(chr(i), end = \" \") "
   ]
  },
  {
   "cell_type": "code",
   "execution_count": 80,
   "id": "f2a063bd",
   "metadata": {},
   "outputs": [
    {
     "name": "stdout",
     "output_type": "stream",
     "text": [
      "\u0000 \u0001 \u0002 \u0003 \u0004 \u0005 \u0006 \u0007 \b \t \n",
      " \u000b",
      " \f",
      " \r",
      " \u000e \u000f \u0010 \u0011 \u0012 \u0013 \u0014 \u0015 \u0016 \u0017 \u0018 \u0019 \u001a \u001b \u001c",
      " \u001d",
      " \u001e",
      " \u001f   ! \" # $ % & ' ( ) * + , - . / 0 1 2 3 4 5 6 7 8 9 : ; < = > ? @ A B C D E F G H I J K L M N O P Q R S T U V W X Y Z [ \\ ] ^ _ ` a b c d e f g h i j k l m n o p q r s t u v w x y z { | } ~       ",
      "                             ¡ ¢ £ ¤ ¥ ¦ § ¨ © ª « ¬ ­ ® ¯ ° ± ² ³ ´ µ ¶ · ¸ ¹ º » ¼ ½ ¾ ¿ À Á Â Ã Ä Å Æ Ç È É Ê Ë Ì Í Î Ï Ð Ñ Ò Ó Ô Õ Ö × Ø Ù Ú Û Ü Ý Þ ß à á â ã ä å æ ç è é ê ë ì í î ï ð ñ ò ó ô õ ö ÷ ø ù ú û ü ý þ "
     ]
    }
   ],
   "source": [
    "pattern4()"
   ]
  },
  {
   "cell_type": "code",
   "execution_count": 81,
   "id": "593aba68",
   "metadata": {},
   "outputs": [],
   "source": [
    "def pattern5():\n",
    "    n = int(input(\"Enter the value: \"))\n",
    "    for i in range(n):\n",
    "        for j in range(0,n-i):\n",
    "            print(j, end = \" \")\n",
    "        print(\" \")"
   ]
  },
  {
   "cell_type": "code",
   "execution_count": 82,
   "id": "f9138189",
   "metadata": {},
   "outputs": [
    {
     "name": "stdout",
     "output_type": "stream",
     "text": [
      "Enter the value: 5\n",
      "0 1 2 3 4  \n",
      "0 1 2 3  \n",
      "0 1 2  \n",
      "0 1  \n",
      "0  \n"
     ]
    }
   ],
   "source": [
    "pattern5()"
   ]
  },
  {
   "cell_type": "code",
   "execution_count": 1,
   "id": "7fb886c0",
   "metadata": {},
   "outputs": [],
   "source": [
    "def get_data(name, age, city = \"Salem\"):\n",
    "    print(\"Name: \", name)\n",
    "    print(\"Age: \", age)\n",
    "    print(\"City: \", city)"
   ]
  },
  {
   "cell_type": "code",
   "execution_count": 2,
   "id": "8df98f0b",
   "metadata": {},
   "outputs": [
    {
     "name": "stdout",
     "output_type": "stream",
     "text": [
      "Name:  Kalp\n",
      "Age:  45\n",
      "City:  Salem\n"
     ]
    }
   ],
   "source": [
    "get_data(\"Kalp\", 45)"
   ]
  },
  {
   "cell_type": "code",
   "execution_count": 3,
   "id": "e031c85e",
   "metadata": {},
   "outputs": [
    {
     "ename": "SyntaxError",
     "evalue": "non-default argument follows default argument (1037757699.py, line 1)",
     "output_type": "error",
     "traceback": [
      "\u001b[0;36m  Input \u001b[0;32mIn [3]\u001b[0;36m\u001b[0m\n\u001b[0;31m    def getdata(name,age=45,city):\u001b[0m\n\u001b[0m                                ^\u001b[0m\n\u001b[0;31mSyntaxError\u001b[0m\u001b[0;31m:\u001b[0m non-default argument follows default argument\n"
     ]
    }
   ],
   "source": [
    "def getdata(name,age=45,city):\n",
    "    print(\"Name: \", name)\n",
    "    print(\"Age: \", age)\n",
    "    print(\"City: \", city)"
   ]
  },
  {
   "cell_type": "code",
   "execution_count": 4,
   "id": "1ac9192a",
   "metadata": {},
   "outputs": [],
   "source": [
    "# See here one condition, non-default argument follows default argument is not applicable"
   ]
  },
  {
   "cell_type": "code",
   "execution_count": 5,
   "id": "5a725f0a",
   "metadata": {},
   "outputs": [],
   "source": [
    "def getdata(name,age=45,city=\"Salem\"):\n",
    "    print(\"Name: \", name)\n",
    "    print(\"Age: \", age)\n",
    "    print(\"City: \", city)"
   ]
  },
  {
   "cell_type": "code",
   "execution_count": 6,
   "id": "53875ae2",
   "metadata": {},
   "outputs": [
    {
     "name": "stdout",
     "output_type": "stream",
     "text": [
      "Name:  Arc\n",
      "Age:  45\n",
      "City:  Salem\n"
     ]
    }
   ],
   "source": [
    "getdata(\"Arc\")"
   ]
  },
  {
   "cell_type": "code",
   "execution_count": 7,
   "id": "43ef8b29",
   "metadata": {},
   "outputs": [],
   "source": [
    "# both are default arguments means no problem"
   ]
  },
  {
   "cell_type": "code",
   "execution_count": 8,
   "id": "e09faf08",
   "metadata": {},
   "outputs": [
    {
     "name": "stdout",
     "output_type": "stream",
     "text": [
      "Name:  Thiru\n",
      "Age:  60\n",
      "City:  Trichy\n"
     ]
    }
   ],
   "source": [
    "getdata(\"Thiru\",60, \"Trichy\")"
   ]
  },
  {
   "cell_type": "code",
   "execution_count": 9,
   "id": "1f4b99ea",
   "metadata": {},
   "outputs": [],
   "source": [
    "# Also we can change the values like this"
   ]
  },
  {
   "cell_type": "markdown",
   "id": "7a69afcd",
   "metadata": {},
   "source": [
    "# Variable length non keyword argument"
   ]
  },
  {
   "cell_type": "code",
   "execution_count": 10,
   "id": "6c208f64",
   "metadata": {},
   "outputs": [],
   "source": [
    "# We can give more number of arguments"
   ]
  },
  {
   "cell_type": "code",
   "execution_count": 11,
   "id": "9e31a609",
   "metadata": {},
   "outputs": [],
   "source": [
    "def getdata(name,age,city,*args): \n",
    "    print(\"Name=\",name)\n",
    "    print(\"Age=\",age)\n",
    "    print(\"City=\",city)\n",
    "    print(\"Others=\",args)"
   ]
  },
  {
   "cell_type": "code",
   "execution_count": 14,
   "id": "7751bfa5",
   "metadata": {},
   "outputs": [
    {
     "name": "stdout",
     "output_type": "stream",
     "text": [
      "Name= Arun\n",
      "Age= 25\n",
      "City= Chennai\n",
      "Others= (26, 5.5, 'Arjun', '@%')\n"
     ]
    }
   ],
   "source": [
    "getdata(\"Arun\", 25, \"Chennai\", 26, 5.5, \"Arjun\", \"@%\")"
   ]
  },
  {
   "cell_type": "code",
   "execution_count": 15,
   "id": "b1ada459",
   "metadata": {},
   "outputs": [],
   "source": [
    "# So now we can see clearly that, args are stroing the values in others category and also it tuple"
   ]
  },
  {
   "cell_type": "code",
   "execution_count": 16,
   "id": "f9b7a205",
   "metadata": {},
   "outputs": [],
   "source": [
    "# So the tuple can be iteratable, "
   ]
  },
  {
   "cell_type": "code",
   "execution_count": 17,
   "id": "b7a00969",
   "metadata": {},
   "outputs": [],
   "source": [
    "def getdata(name,age,city,*args): \n",
    "    print(\"Name=\",name)\n",
    "    print(\"Age=\",age)\n",
    "    print(\"City=\",city)\n",
    "    for i in args:\n",
    "        print(i)"
   ]
  },
  {
   "cell_type": "code",
   "execution_count": 18,
   "id": "20cb8ee3",
   "metadata": {},
   "outputs": [
    {
     "name": "stdout",
     "output_type": "stream",
     "text": [
      "Name= Meena\n",
      "Age= 26\n",
      "City= Coimbatore\n",
      "India\n",
      "China\n",
      "Coding\n"
     ]
    }
   ],
   "source": [
    "getdata(\"Meena\", 26, \"Coimbatore\", \"India\", \"China\", \"Coding\")"
   ]
  },
  {
   "cell_type": "code",
   "execution_count": 19,
   "id": "22c8fcdb",
   "metadata": {},
   "outputs": [],
   "source": [
    "def getdata(x, *y):\n",
    "    print(x)\n",
    "    print(y)"
   ]
  },
  {
   "cell_type": "code",
   "execution_count": 20,
   "id": "5b3a5a1f",
   "metadata": {},
   "outputs": [
    {
     "name": "stdout",
     "output_type": "stream",
     "text": [
      "1\n",
      "(2, 3, 4, 5, 6, 7, 8, 9, 10)\n"
     ]
    }
   ],
   "source": [
    "getdata(1, 2, 3, 4, 5, 6, 7, 8, 9, 10)"
   ]
  },
  {
   "cell_type": "code",
   "execution_count": 21,
   "id": "d0e5d191",
   "metadata": {},
   "outputs": [],
   "source": [
    "def getdata(x, *y):\n",
    "    print(x)\n",
    "    print(type(y))"
   ]
  },
  {
   "cell_type": "code",
   "execution_count": 23,
   "id": "8c0cf0c8",
   "metadata": {},
   "outputs": [
    {
     "name": "stdout",
     "output_type": "stream",
     "text": [
      "1\n",
      "<class 'tuple'>\n"
     ]
    }
   ],
   "source": [
    "getdata(1,2,3,4,5,6,7,8,9,10)"
   ]
  },
  {
   "cell_type": "code",
   "execution_count": 26,
   "id": "48257342",
   "metadata": {},
   "outputs": [],
   "source": [
    "def getdata(x, *y):\n",
    "    res = x * sum(y)\n",
    "    return res"
   ]
  },
  {
   "cell_type": "code",
   "execution_count": 27,
   "id": "423329bd",
   "metadata": {},
   "outputs": [
    {
     "data": {
      "text/plain": [
       "58"
      ]
     },
     "execution_count": 27,
     "metadata": {},
     "output_type": "execute_result"
    }
   ],
   "source": [
    "getdata(2,1,3,4,7,5,9)"
   ]
  },
  {
   "cell_type": "code",
   "execution_count": null,
   "id": "080f6a99",
   "metadata": {},
   "outputs": [],
   "source": []
  }
 ],
 "metadata": {
  "kernelspec": {
   "display_name": "Python 3 (ipykernel)",
   "language": "python",
   "name": "python3"
  },
  "language_info": {
   "codemirror_mode": {
    "name": "ipython",
    "version": 3
   },
   "file_extension": ".py",
   "mimetype": "text/x-python",
   "name": "python",
   "nbconvert_exporter": "python",
   "pygments_lexer": "ipython3",
   "version": "3.9.7"
  }
 },
 "nbformat": 4,
 "nbformat_minor": 5
}
